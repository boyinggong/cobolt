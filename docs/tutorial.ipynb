{
 "cells": [
  {
   "cell_type": "markdown",
   "source": [
    "# Joint Modeling Multi-omic Single-cell Datasets with **Cobolt**"
   ],
   "metadata": {
    "collapsed": false,
    "pycharm": {
     "name": "#%% md\n"
    }
   }
  },
  {
   "cell_type": "code",
   "execution_count": null,
   "outputs": [],
   "source": [
    "from cobolt.utils import SingleData, MultiData, MultiomicDataset\n",
    "from cobolt.model import Cobolt\n",
    "import os\n",
    "import pandas as pd"
   ],
   "metadata": {
    "collapsed": false,
    "pycharm": {
     "name": "#%%\n",
     "is_executing": true
    }
   }
  },
  {
   "cell_type": "code",
   "execution_count": null,
   "outputs": [],
   "source": [
    "dat_dir = \"../../example_data\""
   ],
   "metadata": {
    "collapsed": false,
    "pycharm": {
     "name": "#%%\n"
    }
   }
  },
  {
   "cell_type": "markdown",
   "source": [
    "## Read Data"
   ],
   "metadata": {
    "collapsed": false,
    "pycharm": {
     "name": "#%% md\n"
    }
   }
  },
  {
   "cell_type": "markdown",
   "source": [
    "Read a SNARE-seq dataset that jointly profiles gene expression and chromatin\n",
    "accessibility in mouse cerebral cortex. Here we read the data directly from\n",
    "files. Alternatively, a `SingleData` object can also be constructed using\n",
    "processed scipy sparse matrix. Please refer to the documentation of\n",
    "`SingleData` for more details."
   ],
   "metadata": {
    "collapsed": false,
    "pycharm": {
     "name": "#%% md\n"
    }
   }
  },
  {
   "cell_type": "code",
   "execution_count": null,
   "outputs": [],
   "source": [
    "# Read the SNARE-seq gene expression data. The default files for feature names,\n",
    "# cell barcodes, and the count matrix are \"features.tsv\", \"counts.mtx\", and\n",
    "# \"barcodes.tsv\".\n",
    "snare_mrna = SingleData.from_file(path=os.path.join(dat_dir, \"snare\"),\n",
    "                                  feature_name='rna',\n",
    "                                  count_file=\"gene_counts.mtx\",\n",
    "                                  feature_file='genes.tsv')\n",
    "# Filter out features that have total counts smaller than the 70% quantile or\n",
    "# higher than 99% quantile. Here we focus on the highly expressed features and\n",
    "# remove the potential outlier features.\n",
    "snare_mrna.filter_features(upper_quantile=0.99, lower_quantile=0.7)\n",
    "# Read the SNARE-seq chromatin accessibility data.\n",
    "snare_atac = SingleData.from_file(path=os.path.join(dat_dir, \"snare\"),\n",
    "                                  feature_name='atac',\n",
    "                                  count_file=\"peak_counts.mtx\",\n",
    "                                  feature_file='peaks.tsv')\n",
    "snare_atac.filter_features(upper_quantile=0.99, lower_quantile=0.7)"
   ],
   "metadata": {
    "collapsed": false,
    "pycharm": {
     "name": "#%%\n"
    }
   }
  },
  {
   "cell_type": "markdown",
   "source": [
    "Read a gene expression dataset of mouse primary motor cortex."
   ],
   "metadata": {
    "collapsed": false,
    "pycharm": {
     "name": "#%% md\n"
    }
   }
  },
  {
   "cell_type": "code",
   "execution_count": null,
   "outputs": [],
   "source": [
    "mop_mrna = SingleData.from_file(path=os.path.join(dat_dir, \"mrna\"),\n",
    "                                feature_name='rna',\n",
    "                                feature_file='genes.tsv')\n",
    "mop_mrna.filter_features(upper_quantile=0.99, lower_quantile=0.7)"
   ],
   "metadata": {
    "collapsed": false,
    "pycharm": {
     "name": "#%%\n"
    }
   }
  },
  {
   "cell_type": "markdown",
   "source": [
    "Read a chromatin accessibility dataset of mouse primary motor cortex."
   ],
   "metadata": {
    "collapsed": false,
    "pycharm": {
     "name": "#%% md\n"
    }
   }
  },
  {
   "cell_type": "code",
   "execution_count": null,
   "outputs": [],
   "source": [
    "mop_atac = SingleData.from_file(path=os.path.join(dat_dir, \"atac\"),\n",
    "                                feature_name='atac',\n",
    "                                feature_file='peaks.tsv')\n",
    "mop_atac.filter_features(upper_quantile=0.99, lower_quantile=0.7)"
   ],
   "metadata": {
    "collapsed": false,
    "pycharm": {
     "name": "#%%\n"
    }
   }
  },
  {
   "cell_type": "markdown",
   "source": [
    "Merge the above three datasets."
   ],
   "metadata": {
    "collapsed": false,
    "pycharm": {
     "name": "#%% md\n"
    }
   }
  },
  {
   "cell_type": "code",
   "execution_count": null,
   "outputs": [],
   "source": [],
   "metadata": {
    "collapsed": false,
    "pycharm": {
     "name": "#%%\n"
    }
   }
  }
 ],
 "metadata": {
  "kernelspec": {
   "display_name": "Python 3",
   "language": "python",
   "name": "python3"
  },
  "language_info": {
   "codemirror_mode": {
    "name": "ipython",
    "version": 2
   },
   "file_extension": ".py",
   "mimetype": "text/x-python",
   "name": "python",
   "nbconvert_exporter": "python",
   "pygments_lexer": "ipython2",
   "version": "2.7.6"
  }
 },
 "nbformat": 4,
 "nbformat_minor": 0
}